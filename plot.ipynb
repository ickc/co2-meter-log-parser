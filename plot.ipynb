{
 "cells": [
  {
   "cell_type": "code",
   "execution_count": null,
   "id": "5c1df304-69d4-4f92-964a-9417079e52ba",
   "metadata": {},
   "outputs": [],
   "source": [
    "from pathlib import Path\n",
    "\n",
    "import pandas as pd\n",
    "\n",
    "from co2_meter.data import Data\n",
    "\n",
    "pd.options.plotting.backend = \"plotly\""
   ]
  },
  {
   "cell_type": "code",
   "execution_count": null,
   "id": "fbbb6aa1-1503-49a4-9f62-b83779313c20",
   "metadata": {},
   "outputs": [],
   "source": [
    "path = Path(\"log\")"
   ]
  },
  {
   "cell_type": "code",
   "execution_count": null,
   "id": "1e91a59e-5ef3-4951-9f3d-31bd6b7495e4",
   "metadata": {},
   "outputs": [],
   "source": [
    "data = Data.from_dir(path)"
   ]
  },
  {
   "cell_type": "code",
   "execution_count": null,
   "id": "564175ee-6359-4769-bf99-e81f276783cf",
   "metadata": {},
   "outputs": [],
   "source": [
    "data.dataframe"
   ]
  },
  {
   "cell_type": "code",
   "execution_count": null,
   "id": "979a9d6f-3778-47a6-b2d4-cbb6d7067ccd",
   "metadata": {},
   "outputs": [],
   "source": [
    "data.dataframe.describe()"
   ]
  },
  {
   "cell_type": "code",
   "execution_count": null,
   "id": "950aa9ba-3b28-462f-805b-c6d9679b76e9",
   "metadata": {},
   "outputs": [],
   "source": [
    "data.plot()"
   ]
  }
 ],
 "metadata": {
  "jupytext": {
   "formats": "ipynb,py:percent"
  },
  "kernelspec": {
   "display_name": "all310-conda-forge",
   "language": "python",
   "name": "all310-conda-forge"
  },
  "language_info": {
   "codemirror_mode": {
    "name": "ipython",
    "version": 3
   },
   "file_extension": ".py",
   "mimetype": "text/x-python",
   "name": "python",
   "nbconvert_exporter": "python",
   "pygments_lexer": "ipython3",
   "version": "3.10.4"
  }
 },
 "nbformat": 4,
 "nbformat_minor": 5
}
